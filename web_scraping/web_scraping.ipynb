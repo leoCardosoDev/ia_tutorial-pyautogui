{
 "cells": [
  {
   "cell_type": "code",
   "execution_count": 8,
   "metadata": {},
   "outputs": [],
   "source": [
    "import requests\n",
    "from bs4 import BeautifulSoup"
   ]
  },
  {
   "cell_type": "code",
   "execution_count": 9,
   "metadata": {},
   "outputs": [],
   "source": [
    "url = \"https://www.globo.com/\"\n",
    "page = requests.get(url)"
   ]
  },
  {
   "cell_type": "code",
   "execution_count": 10,
   "metadata": {},
   "outputs": [
    {
     "data": {
      "text/plain": [
       "<Response [200]>"
      ]
     },
     "execution_count": 10,
     "metadata": {},
     "output_type": "execute_result"
    }
   ],
   "source": [
    "page"
   ]
  },
  {
   "cell_type": "code",
   "execution_count": 11,
   "metadata": {},
   "outputs": [],
   "source": [
    "resposta = page.text"
   ]
  },
  {
   "cell_type": "code",
   "execution_count": 12,
   "metadata": {},
   "outputs": [],
   "source": [
    "soup = BeautifulSoup(resposta, 'html.parser')"
   ]
  },
  {
   "cell_type": "code",
   "execution_count": 13,
   "metadata": {},
   "outputs": [],
   "source": [
    "noticias = soup.find_all('h2', {'class': 'post__title'})"
   ]
  },
  {
   "cell_type": "code",
   "execution_count": 16,
   "metadata": {},
   "outputs": [
    {
     "name": "stdout",
     "output_type": "stream",
     "text": [
      "Justiça espanhola anula sentença por estupro e absolve Daniel Alves\n",
      "\n",
      "Relato insuficiente da vítima e mais: os argumentos para a anulação\n",
      "\n",
      "De 'Totalmente lamentável' a 'temos que respeitar': imprensa reage\n",
      "\n",
      " Arranha-céu desaba na Tailândia após terremoto; vídeo\n",
      "\n",
      "Forte tremor deixa mortos e soterrados; FOTOS\n",
      "\n",
      "Mianmar tem queda de pontes, templos e prédios; veja\n",
      "\n",
      "Tremor é sentido no Vietnã, onde Lula está\n",
      "\n",
      "Bolsonaro e parte da oposição miram fim do foro privilegiado\n",
      "\n",
      "Blog: governo e STF descartam fim do foro\n",
      "\n",
      "Está mesmo doente? Veja os fatos sobre a saúde de Putin\n",
      "\n",
      "Putin condiciona o cessar-fogo à saída de Zelensky\n",
      "\n",
      "Tarifas de Trump vão mudar preços dos carros no Brasil?\n",
      "\n",
      "Americanos migram para México para evitar Trump\n",
      "\n",
      "Claudia Ohana cita menopausa: 'Achei que era depressão'\n",
      "\n",
      "Assinante O Globo lê tudo sobre saúde e bem-estar\n",
      "\n",
      "Memphis ficará com quase todo prêmio pelo título; valores\n",
      "\n",
      "Corinthians provoca Palmeiras após o título; veja memes\n",
      "\n",
      "Jogadores zoam Félix Torres: 'Doido pra fazer m...'\n",
      "\n",
      "Jogadores do Fla fazem lobby para Filipe Luís não sair rumo à Seleção\n",
      "\n",
      "Com SAF, Flu quer ser o 6º clube que mais investe no futebol brasileiro\n",
      "\n",
      "Ancelotti cita interesse da Seleção: 'Muito carinho, mas já tenho contrato'\n",
      "\n",
      "CBF define hoje o futuro de Dorival Jr; veja raio-x \n",
      "\n",
      "Líder Maike escolhe alvos para o Paredão do BBB; saiba os três nomes\n",
      "\n",
      "Veja divisão entre VIP e Xepa\n",
      "\n",
      "Maike sugere que aliados mirem em adversária: 'Os 5 votos nela'\n",
      "\n",
      "Vinícius está no Paredão após perder etapa extra da Prova do Líder; vídeo\n",
      "\n",
      "Modo turbo: Paredão triplo, Anjo autoimune e mais na Dinâmica; confira\n",
      "\n",
      "Veja desfechos que vão movimentar o capítulo final de 'Mania de Você'\n",
      "\n",
      "Mércia mata Molina, e fãs vibram com reviravolta; reveja\n",
      "\n",
      "Cartola 2025: 6 dicas pouco visadas para o meio e ataque na rodada #1 do Brasileirão\n",
      "\n",
      "Ovo caseiro com mousse de chocolate é dica para vender e faturar um extra\n",
      "\n",
      "Para cachorro, com whey, com maquiagem...: conheça ovos 'diferentões'\n",
      "\n",
      "Veja destinos brasileiros para economizar e fugir da muvuca no feriadão\n",
      "\n",
      "Mulher descobre que 'espinha' sem cicatrização era câncer\n",
      "\n",
      "Qual é a idade em que os sintomas da ressaca são as piores? Novo estudo surpreendente\n",
      "\n",
      "Por que suas qualidades mais atraentes podem decepcionar seu parceiro? Entenda\n",
      "\n",
      "Clarice pede que Beatriz desista de Beto; veja detalhes da trama\n",
      "\n",
      "Cacá surta ao descobrir que Jão e Madá vão se casar\n",
      "\n",
      "Raquel leva golpe da filha; veja um resumo da primeira semana\n",
      "\n",
      "Maiara vai se mudar para apê de R$ 10 milhões nas próximas semanas\n",
      "\n",
      "'Insulto à vida': ChatGPT desativa função que imitava estúdio japonês\n",
      "\n",
      "Quem é o brasileiro mais seguido no Instagram? Confira Top 10 de 2025\n",
      "\n",
      "Esses são os 10 celulares Android mais poderosos do mundo; conheça\n",
      "\n",
      "Seu Xiaomi pode 'virar' um iPhone com iOS 18; entenda se é seguro\n",
      "\n",
      "A pressão de Trump sobre estudantes e universidades é tema de 'O Assunto'; escute\n",
      "\n",
      "Reginaldo Faria fala da expectativa para 'Vale tudo' e lembra situação inusitada em 'Dancin' Days'\n",
      "\n",
      "Encontre os melhores podcasts da Globo em um só lugar; aperte o play e divirta-se\n",
      "\n"
     ]
    }
   ],
   "source": [
    "for i in range(len(noticias)):\n",
    "    print(noticias[i].text)\n",
    "    print()"
   ]
  }
 ],
 "metadata": {
  "kernelspec": {
   "display_name": "Python 3",
   "language": "python",
   "name": "python3"
  },
  "language_info": {
   "codemirror_mode": {
    "name": "ipython",
    "version": 3
   },
   "file_extension": ".py",
   "mimetype": "text/x-python",
   "name": "python",
   "nbconvert_exporter": "python",
   "pygments_lexer": "ipython3",
   "version": "3.12.4"
  }
 },
 "nbformat": 4,
 "nbformat_minor": 2
}
