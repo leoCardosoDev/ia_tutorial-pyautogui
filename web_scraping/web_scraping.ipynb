{
 "cells": [
  {
   "cell_type": "code",
   "execution_count": null,
   "metadata": {},
   "outputs": [],
   "source": [
    "import requests\n",
    "from bs4 import BeautifulSoup\n",
    "import pandas as pd"
   ]
  },
  {
   "cell_type": "code",
   "execution_count": null,
   "metadata": {},
   "outputs": [],
   "source": [
    "def scraping_uf(uf: str):\n",
    "    uf_url = f\"https://www.ibge.gov.br/cidades-e-estados/{uf}.html\"\n",
    "    browsers = {'User-Agent': 'Mozilla/5.0 (Windows NT 10.0; Win64; x64) AppleWebKit/537.36 (KHTML, like Gecko) Chrome/58.0.3029.110 Safari/537.3'}\n",
    "    response = requests.get(uf_url, headers=browsers)\n",
    "    if response.status_code != 200:\n",
    "        raise Exception(f\"Failed to load page: {uf_url}\")\n",
    "    soup = BeautifulSoup(response.content, 'html.parser')\n",
    "    indicadores = soup.select('.indicador')\n",
    "    uf_dict = {\n",
    "        dado.select('.ind-label')[0].text: dado.select('.ind-value')[0].text\n",
    "        for dado in indicadores\n",
    "    }\n",
    "    return uf_dict"
   ]
  },
  {
   "cell_type": "code",
   "execution_count": null,
   "metadata": {},
   "outputs": [],
   "source": [
    "estado = scraping_uf('sp')"
   ]
  },
  {
   "cell_type": "code",
   "execution_count": null,
   "metadata": {},
   "outputs": [],
   "source": [
    "for indicador in estado:\n",
    "    if ']' in estado[indicador]:\n",
    "        estado[indicador] = estado[indicador].split(']')[0][:-8]\n",
    "    else:\n",
    "        estado[indicador] = estado[indicador]"
   ]
  },
  {
   "cell_type": "code",
   "execution_count": null,
   "metadata": {},
   "outputs": [
    {
     "data": {
      "text/plain": [
       "{'Governador': 'TARCISIO GOMES DE FREITAS',\n",
       " 'Capital': 'São Paulo',\n",
       " 'Gentílico': 'paulista',\n",
       " 'Área Territorial': '248.219,485 km²',\n",
       " 'População no último censo': '44.411.238 pessoas',\n",
       " 'Densidade demográfica': '178,92 hab/km²',\n",
       " 'População estimada': '45.973.194 pessoas',\n",
       " 'Matrículas no ensino fundamental': '5.343.271 matrículas',\n",
       " 'IDH Índice de desenvolvimento humano': '0,806',\n",
       " 'Total de receitas brutas realizadas': '343.634.435.413,40 R$',\n",
       " 'Total de despesas brutas empenhadas': '328.315.580.393,50 R$',\n",
       " 'Rendimento mensal domiciliar per capita': '2.662 R$',\n",
       " 'Total de veículos': '34.332.818 veículos'}"
      ]
     },
     "metadata": {},
     "output_type": "display_data"
    }
   ],
   "source": [
    "estado"
   ]
  },
  {
   "cell_type": "code",
   "execution_count": null,
   "metadata": {},
   "outputs": [
    {
     "data": {
      "text/html": [
       "<div>\n",
       "<style scoped>\n",
       "    .dataframe tbody tr th:only-of-type {\n",
       "        vertical-align: middle;\n",
       "    }\n",
       "\n",
       "    .dataframe tbody tr th {\n",
       "        vertical-align: top;\n",
       "    }\n",
       "\n",
       "    .dataframe thead th {\n",
       "        text-align: right;\n",
       "    }\n",
       "</style>\n",
       "<table border=\"1\" class=\"dataframe\">\n",
       "  <thead>\n",
       "    <tr style=\"text-align: right;\">\n",
       "      <th></th>\n",
       "      <th>0</th>\n",
       "    </tr>\n",
       "  </thead>\n",
       "  <tbody>\n",
       "    <tr>\n",
       "      <th>Governador</th>\n",
       "      <td>TARCISIO GOMES DE FREITAS</td>\n",
       "    </tr>\n",
       "    <tr>\n",
       "      <th>Capital</th>\n",
       "      <td>São Paulo</td>\n",
       "    </tr>\n",
       "    <tr>\n",
       "      <th>Gentílico</th>\n",
       "      <td>paulista</td>\n",
       "    </tr>\n",
       "    <tr>\n",
       "      <th>Área Territorial</th>\n",
       "      <td>248.219,485 km²</td>\n",
       "    </tr>\n",
       "    <tr>\n",
       "      <th>População no último censo</th>\n",
       "      <td>44.411.238 pessoas</td>\n",
       "    </tr>\n",
       "    <tr>\n",
       "      <th>Densidade demográfica</th>\n",
       "      <td>178,92 hab/km²</td>\n",
       "    </tr>\n",
       "    <tr>\n",
       "      <th>População estimada</th>\n",
       "      <td>45.973.194 pessoas</td>\n",
       "    </tr>\n",
       "    <tr>\n",
       "      <th>Matrículas no ensino fundamental</th>\n",
       "      <td>5.343.271 matrículas</td>\n",
       "    </tr>\n",
       "    <tr>\n",
       "      <th>IDH Índice de desenvolvimento humano</th>\n",
       "      <td>0,806</td>\n",
       "    </tr>\n",
       "    <tr>\n",
       "      <th>Total de receitas brutas realizadas</th>\n",
       "      <td>343.634.435.413,40 R$</td>\n",
       "    </tr>\n",
       "    <tr>\n",
       "      <th>Total de despesas brutas empenhadas</th>\n",
       "      <td>328.315.580.393,50 R$</td>\n",
       "    </tr>\n",
       "    <tr>\n",
       "      <th>Rendimento mensal domiciliar per capita</th>\n",
       "      <td>2.662 R$</td>\n",
       "    </tr>\n",
       "    <tr>\n",
       "      <th>Total de veículos</th>\n",
       "      <td>34.332.818 veículos</td>\n",
       "    </tr>\n",
       "  </tbody>\n",
       "</table>\n",
       "</div>"
      ],
      "text/plain": [
       "                                                                 0\n",
       "Governador                               TARCISIO GOMES DE FREITAS\n",
       "Capital                                                  São Paulo\n",
       "Gentílico                                                 paulista\n",
       "Área Territorial                                   248.219,485 km²\n",
       "População no último censo                       44.411.238 pessoas\n",
       "Densidade demográfica                               178,92 hab/km²\n",
       "População estimada                              45.973.194 pessoas\n",
       "Matrículas no ensino fundamental             5.343.271 matrículas\n",
       "IDH Índice de desenvolvimento humano                        0,806\n",
       "Total de receitas brutas realizadas          343.634.435.413,40 R$\n",
       "Total de despesas brutas empenhadas          328.315.580.393,50 R$\n",
       "Rendimento mensal domiciliar per capita                   2.662 R$\n",
       "Total de veículos                              34.332.818 veículos"
      ]
     },
     "metadata": {},
     "output_type": "display_data"
    }
   ],
   "source": [
    "df = pd.DataFrame(estado.values(), index=estado.keys())\n",
    "df"
   ]
  }
 ],
 "metadata": {
  "kernelspec": {
   "display_name": "Python 3",
   "language": "python",
   "name": "python3"
  },
  "language_info": {
   "codemirror_mode": {
    "name": "ipython",
    "version": 3
   },
   "file_extension": ".py",
   "mimetype": "text/x-python",
   "name": "python",
   "nbconvert_exporter": "python",
   "pygments_lexer": "ipython3",
   "version": "3.12.4"
  }
 },
 "nbformat": 4,
 "nbformat_minor": 2
}
